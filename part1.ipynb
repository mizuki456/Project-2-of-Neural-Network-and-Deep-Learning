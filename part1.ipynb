{
 "cells": [
  {
   "cell_type": "code",
   "execution_count": 1,
   "id": "5bf1c60c",
   "metadata": {},
   "outputs": [
    {
     "name": "stdout",
     "output_type": "stream",
     "text": [
      "cuda\n"
     ]
    }
   ],
   "source": [
    "import torch\n",
    "from torch import optim\n",
    "import torchvision\n",
    "import matplotlib.pyplot as plt\n",
    "import torchvision.transforms as transforms\n",
    "from torch.utils.data import random_split, DataLoader\n",
    "import torch.nn as nn\n",
    "import torch.nn.functional as F\n",
    "from models.basic import BasicModel, SimpleCIFARModel_LeakyReLU, SimpleCIFARModel, DeepCIFARModel\n",
    "import os\n",
    "import pickle\n",
    "\n",
    "\n",
    "transform = transforms.Compose( [transforms.ToTensor(), transforms.Normalize((0.5, 0.5, 0.5), (0.5, 0.5, 0.5))])\n",
    "trainset = torchvision.datasets.CIFAR10(root='./data', train=True, download=False, transform=transform)\n",
    "trainloader = torch.utils.data.DataLoader(trainset, batch_size=64, shuffle=True, num_workers=0)\n",
    "testset = torchvision.datasets.CIFAR10(root='./data', train=False, download=False, transform=transform)\n",
    "testloader = torch.utils.data.DataLoader(testset, batch_size=64, shuffle=False, num_workers=0)\n",
    "\n",
    "train_size = int(0.8 * len(trainset))\n",
    "val_size = len(trainset) - train_size\n",
    "train_subset, val_subset = random_split(trainset, [train_size, val_size])\n",
    "\n",
    "trainloader = DataLoader(train_subset, batch_size=64, shuffle=True)\n",
    "valloader = DataLoader(val_subset, batch_size=64, shuffle=False)\n",
    "\n",
    "device = torch.device(\"cuda\" if torch.cuda.is_available() else \"cpu\")\n",
    "print(device)"
   ]
  },
  {
   "cell_type": "code",
   "execution_count": 2,
   "id": "f076827b",
   "metadata": {},
   "outputs": [],
   "source": [
    "def train(model, optimizer, criterion, epochs=15, save_dir=\"results/\"):\n",
    "    train_losses = []\n",
    "    val_losses = []\n",
    "    train_accs = []\n",
    "    val_accs = []\n",
    "\n",
    "    os.makedirs(save_dir, exist_ok=True)\n",
    "    best_model_path = os.path.join(save_dir, \"best_model.pth\")\n",
    "    best_val_acc = 0.0\n",
    "\n",
    "    for epoch in range(epochs):\n",
    "        model.train()\n",
    "        train_loss = 0.0\n",
    "        correct = 0\n",
    "        total = 0\n",
    "\n",
    "        for images, labels in trainloader:\n",
    "            images, labels = images.to(device), labels.to(device)\n",
    "\n",
    "            outputs = model(images)\n",
    "            loss = criterion(outputs, labels)\n",
    "            _, predicted = torch.max(outputs.data, 1)\n",
    "            total += labels.size(0)\n",
    "            correct += (predicted == labels).sum().item()\n",
    "\n",
    "            optimizer.zero_grad()\n",
    "            loss.backward()\n",
    "            optimizer.step()\n",
    "\n",
    "            train_loss += loss.item()\n",
    "        \n",
    "        train_loss = train_loss / len(trainloader)\n",
    "        train_losses.append(train_loss)\n",
    "        train_acc = correct / total\n",
    "        train_accs.append(train_acc)\n",
    "\n",
    "        model.eval()\n",
    "        val_loss = 0.0\n",
    "        correct = 0\n",
    "        total = 0\n",
    "\n",
    "        with torch.no_grad():\n",
    "            for images, labels in valloader:\n",
    "                images, labels = images.to(device), labels.to(device)\n",
    "\n",
    "                outputs = model(images)\n",
    "                loss = criterion(outputs, labels)\n",
    "                val_loss += loss.item()\n",
    "\n",
    "                _, predicted = torch.max(outputs.data, 1)\n",
    "                total += labels.size(0)\n",
    "                correct += (predicted == labels).sum().item()\n",
    "\n",
    "        val_loss  /= len(valloader)\n",
    "        val_losses.append(val_loss)\n",
    "\n",
    "        val_acc = correct / total\n",
    "        val_accs.append(val_acc)\n",
    "\n",
    "        if val_acc > best_val_acc:\n",
    "            best_val_acc = val_acc\n",
    "            torch.save(model.state_dict(), best_model_path)\n",
    "\n",
    "        print(f\"Epoch [{epoch+1}/{epochs}], Train Accuracy: {train_acc:.4f}, Val Accuracy: {val_acc:.4f}\")\n",
    "\n",
    "    results = {\n",
    "        \"train_losses\": train_losses,\n",
    "        \"val_losses\": val_losses,\n",
    "        \"train_accs\": train_accs,\n",
    "        \"val_accs\": val_accs\n",
    "    }\n",
    "\n",
    "    with open(os.path.join(save_dir, \"training_results.pkl\"), \"wb\") as f:\n",
    "        pickle.dump(results, f)\n",
    "    \n",
    "    return train_losses, val_losses, train_accs, val_accs\n",
    "\n",
    "def evaluate(model):\n",
    "    model.eval()\n",
    "    correct = 0\n",
    "    total = 0\n",
    "\n",
    "    with torch.no_grad():\n",
    "        for images, labels in testloader:\n",
    "            images, labels = images.to(device), labels.to(device)\n",
    "            outputs = model(images)\n",
    "            _, predicted = torch.max(outputs.data, 1)\n",
    "            total += labels.size(0)\n",
    "            correct += (predicted == labels).sum().item()\n",
    "\n",
    "    accuracy = correct / total\n",
    "    print(f\"Test Accuracy: {accuracy * 100:.2f}%\")\n",
    "\n",
    "    return accuracy"
   ]
  },
  {
   "cell_type": "code",
   "execution_count": 3,
   "id": "c7d6f717",
   "metadata": {},
   "outputs": [],
   "source": [
    "loss_fns = [\n",
    "    nn.CrossEntropyLoss(),\n",
    "    nn.CrossEntropyLoss(label_smoothing=0.1),\n",
    "]\n",
    "\n",
    "optims = [\n",
    "    optim.SGD,\n",
    "    optim.Adam,\n",
    "    optim.AdamW\n",
    "]\n"
   ]
  },
  {
   "cell_type": "code",
   "execution_count": 17,
   "id": "b7baa802",
   "metadata": {},
   "outputs": [
    {
     "name": "stdout",
     "output_type": "stream",
     "text": [
      "Epoch [1/15], Train Accuracy: 0.5393, Val Accuracy: 0.6471\n",
      "Epoch [2/15], Train Accuracy: 0.7041, Val Accuracy: 0.7325\n",
      "Epoch [3/15], Train Accuracy: 0.7579, Val Accuracy: 0.7731\n",
      "Epoch [4/15], Train Accuracy: 0.7858, Val Accuracy: 0.7954\n",
      "Epoch [5/15], Train Accuracy: 0.8128, Val Accuracy: 0.8045\n",
      "Epoch [6/15], Train Accuracy: 0.8280, Val Accuracy: 0.8196\n",
      "Epoch [7/15], Train Accuracy: 0.8457, Val Accuracy: 0.8332\n",
      "Epoch [8/15], Train Accuracy: 0.8545, Val Accuracy: 0.8321\n",
      "Epoch [9/15], Train Accuracy: 0.8668, Val Accuracy: 0.8236\n",
      "Epoch [10/15], Train Accuracy: 0.8770, Val Accuracy: 0.8335\n",
      "Epoch [11/15], Train Accuracy: 0.8841, Val Accuracy: 0.8423\n",
      "Epoch [12/15], Train Accuracy: 0.8904, Val Accuracy: 0.8522\n",
      "Epoch [13/15], Train Accuracy: 0.8974, Val Accuracy: 0.8634\n",
      "Epoch [14/15], Train Accuracy: 0.9059, Val Accuracy: 0.8517\n",
      "Epoch [15/15], Train Accuracy: 0.9085, Val Accuracy: 0.8578\n",
      "Test Accuracy: 85.05%\n"
     ]
    },
    {
     "data": {
      "text/plain": [
       "0.8505"
      ]
     },
     "execution_count": 17,
     "metadata": {},
     "output_type": "execute_result"
    }
   ],
   "source": [
    "model5 = DeepCIFARModel().to(device)\n",
    "criterion = loss_fns[0]\n",
    "optimizer = optims[1](model5.parameters(), lr=1e-3, weight_decay=1e-4)\n",
    "\n",
    "train(model5, optimizer, criterion, 15, \"results/DeepModel-Adam\")\n",
    "\n",
    "evaluate(model5)"
   ]
  },
  {
   "cell_type": "code",
   "execution_count": null,
   "id": "bd654394",
   "metadata": {},
   "outputs": [],
   "source": [
    "model = DeepCIFARModel().to(device)\n",
    "save_path = \"results/DeepModel-Adam/best_model.pth\"\n",
    "model.load_state_dict(torch.load(save_path))\n",
    "\n",
    "evaluate(model)"
   ]
  }
 ],
 "metadata": {
  "kernelspec": {
   "display_name": "pytorch",
   "language": "python",
   "name": "python3"
  },
  "language_info": {
   "codemirror_mode": {
    "name": "ipython",
    "version": 3
   },
   "file_extension": ".py",
   "mimetype": "text/x-python",
   "name": "python",
   "nbconvert_exporter": "python",
   "pygments_lexer": "ipython3",
   "version": "3.12.3"
  }
 },
 "nbformat": 4,
 "nbformat_minor": 5
}
